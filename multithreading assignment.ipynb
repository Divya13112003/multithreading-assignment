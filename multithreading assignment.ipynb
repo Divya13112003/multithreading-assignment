{
 "cells": [
  {
   "cell_type": "code",
   "execution_count": null,
   "id": "66d04971-7fc2-4624-bddc-2000409694bc",
   "metadata": {},
   "outputs": [],
   "source": [
    "Q1.What is multithreading in python? Why is it used? Name the module used to handle threads in python?\n",
    "\n",
    "\n",
    "Multithreading is defined as the ability of a processor to execute multiple threads concurrently.\n",
    "In a simple, single-core CPU, it is achieved using frequent switching between threads. This is termed\n",
    "context switching.\n",
    "\n",
    "Python multithreading enables efficient utilization of the resources as the threads share the\n",
    "data space and memory. Multithreading in Python allows the concurrent and parallel occurrence of \n",
    "various tasks. It causes a reduction in time consumption or response time, thereby increasing the performance.\n",
    "\n",
    "The threading module allows multiple threads of execution to take place in a Python program. "
   ]
  },
  {
   "cell_type": "code",
   "execution_count": null,
   "id": "15416eff-1d9f-4469-823a-83d5b422f7e3",
   "metadata": {},
   "outputs": [],
   "source": [
    "Q2. Why threading module used? Write the use of the following functions.\n",
    "(a) activeCount()\n",
    "(b) currentThread()\n",
    "(c)  enumerate()\n",
    "    \n",
    "    \n",
    "answer- The threading module allows multiple threads of execution to take place in a Python program.  \n",
    "(a) threading.activeCount() − Returns the number of thread objects that are active.\n",
    "(b) threading.currentThread() − Returns the number of thread objects in the caller's thread control.\n",
    "(c) threading.enumerate() − Returns a list of all thread objects that are currently active."
   ]
  },
  {
   "cell_type": "code",
   "execution_count": null,
   "id": "1cb0f8ca-6bbd-446b-9e39-726a04892c07",
   "metadata": {},
   "outputs": [],
   "source": [
    " Q3. Explain the following functions\n",
    "(a) run()\n",
    "(b) start()\n",
    "(c) join()\n",
    "(d)isAlive()\n",
    "\n",
    "\n",
    "(a) The standard run() method invokes the callable object passed to the object's constructor as the target argument,\n",
    "if any, with positional and keyword arguments taken from the args and kwargs arguments, respectively.\n",
    "(b) start(): an inbuilt method of the Thread class of the threading module, it is used to start a thread's activity. \n",
    "(c) Join(): an in-built method used to join an iterable's elements, separated by a string separator,\n",
    "which is specified by you.\n",
    "(d) is_alive() : This method returns True just before the run() method starts until just after\n",
    "the run() method terminates."
   ]
  },
  {
   "cell_type": "code",
   "execution_count": 3,
   "id": "2bf0ffcf-80d8-4041-b2fd-611a6d41177b",
   "metadata": {},
   "outputs": [
    {
     "name": "stdout",
     "output_type": "stream",
     "text": [
      " Calculate the square root of the given number\n",
      " Square is :  16\n",
      " Square is :  25\n",
      " Square is :  36\n",
      " Square is :  49\n",
      " Square is :  4\n",
      " Calculate the cube of  the given number\n",
      " Cube is :  64\n",
      " Cube is :  125\n",
      " Cube is :  216\n",
      " Cube is :  343\n",
      " Cube is :  8\n",
      " Total time taken by threads is : 3.0046887397766113\n"
     ]
    }
   ],
   "source": [
    "Q4.  Write a python program to create two threads. Thread one must print the list of squares and thread \n",
    "two must print the list of cubes.\n",
    "\n",
    "\n",
    "import threading\n",
    "# import the thread module  \n",
    "import time\n",
    "# import time module  \n",
    "  \n",
    "def cal_sqre(num): \n",
    "    # define the cal_sqre function  \n",
    "    print(\" Calculate the square root of the given number\")  \n",
    "    for n in num:   \n",
    "        time.sleep(0.3)\n",
    "        # at each iteration it waits for 0.3 time  \n",
    "        print(' Square is : ', n * n)  \n",
    "  \n",
    "def cal_cube(num):\n",
    "    # define the cal_cube() function  \n",
    "    print(\" Calculate the cube of  the given number\")  \n",
    "    for n in num:   \n",
    "        time.sleep(0.3) \n",
    "        # at each iteration it waits for 0.3 time  \n",
    "        print(\" Cube is : \", n * n *n)  \n",
    "  \n",
    "arr = [4, 5, 6, 7, 2] # given array  \n",
    "  \n",
    "t1 = time.time() # get total time to execute the functions  \n",
    "cal_sqre(arr) # call cal_sqre() function  \n",
    "cal_cube(arr) # call cal_cube() function  \n",
    "  \n",
    "print(\" Total time taken by threads is :\", time.time() - t1) # print the total time  "
   ]
  },
  {
   "cell_type": "code",
   "execution_count": null,
   "id": "40495fa4-fe97-474e-9bc3-f3dab5962d8a",
   "metadata": {},
   "outputs": [],
   "source": [
    " Q5. State advantages and disadvantages of multithreading.\n",
    "    \n",
    "    \n",
    "# advantages of multithreading:\n",
    "(a) Improved Performance: Multithreading improves the performance of applications by running the task simultaneously.\n",
    "(b) Better Responsiveness: Multithreading improves the responsiveness of your backend applications by running threads after a task is blocked. \n",
    "\n",
    "# disadvantages of multithreading:\n",
    "Improved performance and concurrency-\n",
    "(a) For certain applications, performance and concurrency can be improved by using multithreading and multicontexting together.\n",
    "In other applications, performance can be unaffected or even degraded by using multithreading and multicontexting together.\n",
    "How performance is affected depends on your application.\n",
    "\n",
    "(b) Simplified coding of remote procedure calls and conversations-\n",
    "In some applications it is easier to code different remote procedure calls and conversations in separate threads than to manage\n",
    "them from the same thread.\n",
    "\n",
    "(c) Simultaneous access to multiple applications-\n",
    "Your BEA Tuxedo clients can be connected to more than one application at a time."
   ]
  },
  {
   "cell_type": "code",
   "execution_count": null,
   "id": "28bc83fb-f1e5-49aa-89ef-a49323412fe7",
   "metadata": {},
   "outputs": [],
   "source": [
    "Q6. Explain deadlocks and race conditions.\n",
    "\n",
    "\n",
    "Race Condition And Deadlock:\n",
    "Both share some similarities, such as they both occur in multi-thread solutions and hamper device performance.\n",
    "However, both are not the same. A race condition occurs when two threads use the same variable at a given time.\n",
    "Deadlock exists when two threads seek one lock simultaneously."
   ]
  }
 ],
 "metadata": {
  "kernelspec": {
   "display_name": "Python 3 (ipykernel)",
   "language": "python",
   "name": "python3"
  },
  "language_info": {
   "codemirror_mode": {
    "name": "ipython",
    "version": 3
   },
   "file_extension": ".py",
   "mimetype": "text/x-python",
   "name": "python",
   "nbconvert_exporter": "python",
   "pygments_lexer": "ipython3",
   "version": "3.10.8"
  }
 },
 "nbformat": 4,
 "nbformat_minor": 5
}
